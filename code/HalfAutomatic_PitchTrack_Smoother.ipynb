{
 "cells": [
  {
   "cell_type": "markdown",
   "metadata": {},
   "source": [
    "# Half-Automatic Pitch Track Smoother\n",
    "\n",
    "This notebook is for **reading a manually edited** pitch track and **automatically**,\n",
    "    \n",
    "    1)Octave Correcting,\n",
    "    \n",
    "    2)Smoothing the edited regions,\n",
    "    \n",
    "    3)Zeroeing frequencies below a threshold and,\n",
    "    \n",
    "    4)Unifying the frame rate.\n",
    "    \n",
    "**Guide:** If your task includes octave corrections start from section A and follow the guide, else start from section B, part 1.2"
   ]
  },
  {
   "cell_type": "code",
   "execution_count": 20,
   "metadata": {},
   "outputs": [],
   "source": [
    "import os\n",
    "import numpy as np\n",
    "\n",
    "# Specify the frequency threshold\n",
    "threshold = 50.0"
   ]
  },
  {
   "cell_type": "markdown",
   "metadata": {},
   "source": [
    "## A) Octave Correction\n",
    "\n",
    "This part is for correcting the regions where there is an octave error with specifying the time instants and the factor of error.\n",
    "\n",
    "You can select an **unedited pitch track** with the cell below or,"
   ]
  },
  {
   "cell_type": "code",
   "execution_count": 5,
   "metadata": {},
   "outputs": [],
   "source": [
    "ID = \"a80b0276-f769-433c-8944-d316848409c5\"\n",
    "dataDir0 = os.path.join('..','data','pitchTracks','unedited_pitchTracks')\n",
    "\n",
    "pitchFile = os.path.join(dataDir0,'{}.pitch'.format(ID))\n",
    "\n",
    "newFileName = ID+\".txt\""
   ]
  },
  {
   "cell_type": "markdown",
   "metadata": {},
   "source": [
    "select an **edited pitch track** with the cell below here."
   ]
  },
  {
   "cell_type": "code",
   "execution_count": 6,
   "metadata": {},
   "outputs": [],
   "source": [
    "recordName = 'Yüzüdür_Cihanı'\n",
    "\n",
    "try_no = 1 # for keeping track of the edition\n",
    "\n",
    "fileName = recordName+'_edited{}.txt'.format(try_no)\n",
    "dataDir0 = os.path.join('..', 'metaData', 'edited_pitchTracks',fileName) # input directory\n",
    "pitchFile = dataDir0\n",
    "\n",
    "newFileName = recordName+'_autoSmooth{}.txt'.format(try_no)\n",
    "dataDir1 = os.path.join('..', 'metaData', 'smooth_pitchTracks',newFileName) # output directory"
   ]
  },
  {
   "cell_type": "markdown",
   "metadata": {},
   "source": [
    "You can read the **pitch track file** with the cell below. However, if you want to read a file with **more than 2 columns** you need to **delete** the **third** column."
   ]
  },
  {
   "cell_type": "code",
   "execution_count": 19,
   "metadata": {},
   "outputs": [
    {
     "name": "stdout",
     "output_type": "stream",
     "text": [
      "Please use 9 digits after the decimal for time specification.\n"
     ]
    }
   ],
   "source": [
    "time = []\n",
    "freq = []\n",
    "\n",
    "with open(pitchFile,\"r\") as file1:\n",
    "    \n",
    "    for line in file1:\n",
    "        \n",
    "        lst = line.split('\\t')\n",
    "        \n",
    "        t = lst[0]\n",
    "        f = float(lst[1])\n",
    "        \n",
    "        if f < threshold:\n",
    "            f = 0.0\n",
    "                \n",
    "        time.append(t)\n",
    "        freq.append(f)\n",
    "        \n",
    "digits = len(time[10].split('.')[1])\n",
    "\n",
    "if digits < 2: \n",
    "    digits = 2\n",
    "\n",
    "print('Please use {} digits after the decimal for time specification.'.format(digits))"
   ]
  },
  {
   "cell_type": "markdown",
   "metadata": {},
   "source": [
    "Specify the regions with octave errors in **sec.msec** in a **string**. \n",
    "\n",
    "Follow the **printout of the above cell** for time specification.\n",
    "\n",
    "**Note:** Remember to put 0.01 sec after the end of the interval (inclusion) and numbers that are integer multiples of 0.1 should be written up to one point after the decimal."
   ]
  },
  {
   "cell_type": "code",
   "execution_count": 14,
   "metadata": {},
   "outputs": [],
   "source": [
    "start_times = [\"132.650000000\"]\n",
    "end_times =   [\"136.500000000\"]\n",
    "\n",
    "factors = [1/2]"
   ]
  },
  {
   "cell_type": "code",
   "execution_count": 15,
   "metadata": {},
   "outputs": [],
   "source": [
    "start_pos = []\n",
    "end_pos = []"
   ]
  },
  {
   "cell_type": "code",
   "execution_count": 16,
   "metadata": {
    "scrolled": true
   },
   "outputs": [],
   "source": [
    "for s in start_times:\n",
    "    start_pos.append(time.index(s))\n",
    "        \n",
    "for e in end_times:\n",
    "    end_pos.append(time.index(e))"
   ]
  },
  {
   "cell_type": "code",
   "execution_count": 17,
   "metadata": {},
   "outputs": [
    {
     "name": "stdout",
     "output_type": "stream",
     "text": [
      "Regions are clear, octaves corrected\n"
     ]
    }
   ],
   "source": [
    "if len(start_pos) == len(end_pos):\n",
    "    \n",
    "    print('Regions are clear, octaves corrected')\n",
    "    \n",
    "    for k in range(len(start_pos)):\n",
    "\n",
    "        interval = range(start_pos[k],end_pos[k])\n",
    "\n",
    "        for i in interval: \n",
    "            freq[i] = freq[i]*factors[k]\n",
    "else:\n",
    "    print(\"Regions Unclear!Couldn't clear\")"
   ]
  },
  {
   "cell_type": "markdown",
   "metadata": {},
   "source": [
    "You can **create the octave corrected text file** directly using the cell below **or continue with smoothing** in part **B)**."
   ]
  },
  {
   "cell_type": "code",
   "execution_count": null,
   "metadata": {},
   "outputs": [],
   "source": [
    "with open(newFileName,\"w\") as newFile:\n",
    "    \n",
    "    for i in range(len(time)):\n",
    "        \n",
    "        t  = time[i]\n",
    "        f = str(freq[i])\n",
    "        \n",
    "        newFile.write(t+'\\t'+f+'\\n')"
   ]
  },
  {
   "cell_type": "markdown",
   "metadata": {},
   "source": [
    "## B) Edited Pitch Track Smoothing\n",
    "\n",
    "This section is for:\n",
    "\n",
    "    1) Automatically finding the parts that you have edited the pitch track manually and smoothing them,\n",
    "\n",
    "    2) Zeroing out certain frequencies below a threshold.\n",
    "\n",
    "    3) Unifying the frame rate."
   ]
  },
  {
   "cell_type": "markdown",
   "metadata": {},
   "source": [
    "![gap%20filling.PNG](attachment:gap%20filling.PNG)"
   ]
  },
  {
   "cell_type": "markdown",
   "metadata": {},
   "source": [
    "### 1.1) Octave Corrected Files\n",
    "\n",
    "If you **made octave corrections** in the part A, **finish this part** and **move** to the part **2)**,\n",
    "\n",
    "**otherwise**, go to part **1.2)**"
   ]
  },
  {
   "cell_type": "code",
   "execution_count": 9,
   "metadata": {},
   "outputs": [],
   "source": [
    "points = [] "
   ]
  },
  {
   "cell_type": "code",
   "execution_count": 10,
   "metadata": {},
   "outputs": [],
   "source": [
    "for t in time:\n",
    "    \n",
    "    # get the new/old point information    \n",
    "    if (t.split(\".\")[1][2:] == \"0000000\") :\n",
    "        status = \"Old Point\"    \n",
    "    else:\n",
    "        status = \"New Point\"\n",
    "\n",
    "    points.append(status) \n",
    "\n",
    "points = np.array(points)   "
   ]
  },
  {
   "cell_type": "markdown",
   "metadata": {},
   "source": [
    "### 1.2) Retrieve the Info."
   ]
  },
  {
   "cell_type": "code",
   "execution_count": 21,
   "metadata": {},
   "outputs": [],
   "source": [
    "recordName = 'egin_havası'\n",
    "\n",
    "try_no = 1 # for keeping track of the edition\n",
    "\n",
    "fileName = recordName+'_edited{}.txt'.format(try_no)\n",
    "dataDir0 = os.path.join('..', 'metaData', 'edited_pitchTracks',fileName) # input directory\n",
    "\n",
    "newFileName = recordName+'_autoSmooth{}.txt'.format(try_no)\n",
    "dataDir1 = os.path.join('..', 'metaData', 'smooth_pitchTracks',newFileName) # output directory"
   ]
  },
  {
   "cell_type": "code",
   "execution_count": 22,
   "metadata": {},
   "outputs": [],
   "source": [
    "with open(dataDir0) as file:\n",
    "    txt =file.readlines()"
   ]
  },
  {
   "cell_type": "code",
   "execution_count": 23,
   "metadata": {},
   "outputs": [],
   "source": [
    "time = []\n",
    "freq = []\n",
    "points = [] "
   ]
  },
  {
   "cell_type": "code",
   "execution_count": 24,
   "metadata": {},
   "outputs": [],
   "source": [
    "for line in txt:\n",
    "    \n",
    "    # get the time and frequency\n",
    "    lst = line.split('\\t')\n",
    "    t = lst[0]\n",
    "    f = float(lst[1])\n",
    "    \n",
    "    time.append(t)\n",
    "    freq.append(f)\n",
    "\n",
    "    # get the new/old point information    \n",
    "    if (t.split(\".\")[1][2:] == \"0000000\") :\n",
    "        status = \"Old Point\"    \n",
    "    else:\n",
    "        status = \"New Point\"\n",
    "\n",
    "    points.append(status) \n",
    "\n",
    "points = np.array(points)"
   ]
  },
  {
   "cell_type": "markdown",
   "metadata": {},
   "source": [
    "### 2) Find where the New Points are"
   ]
  },
  {
   "cell_type": "code",
   "execution_count": 25,
   "metadata": {},
   "outputs": [],
   "source": [
    "indices = np.where(points == 'New Point')[0]\n",
    "delta = np.diff(indices) # distances between the new points"
   ]
  },
  {
   "cell_type": "code",
   "execution_count": 26,
   "metadata": {},
   "outputs": [],
   "source": [
    "# Specify a distance limit for seperation\n",
    "delta_max = 15 "
   ]
  },
  {
   "cell_type": "markdown",
   "metadata": {},
   "source": [
    "### 3) Find the boundaries of the intervals"
   ]
  },
  {
   "cell_type": "code",
   "execution_count": 13,
   "metadata": {},
   "outputs": [],
   "source": [
    "boundaries = [0]  \n",
    "\n",
    "for counter, value in enumerate(delta):\n",
    "    \n",
    "    if value > delta_max:\n",
    "        boundaries.append(counter)\n",
    "        boundaries.append(counter+1)\n",
    "\n",
    "boundaries.append(len(delta))\n",
    "\n",
    "intervals = indices[boundaries]"
   ]
  },
  {
   "cell_type": "markdown",
   "metadata": {},
   "source": [
    "### 4) Smooth the intervals"
   ]
  },
  {
   "cell_type": "code",
   "execution_count": 14,
   "metadata": {},
   "outputs": [],
   "source": [
    "for n in range(int(len(intervals)/2)):\n",
    "    \n",
    "    start = intervals[2*n]\n",
    "    end = intervals[2*n+1]\n",
    "    \n",
    "    for index in range(start,end):\n",
    "        \n",
    "        t = time[index]        \n",
    "        if (t.split(\".\")[1][2:] == \"0000000\"):    \n",
    "            \n",
    "            # 2p-smoothing\n",
    "            freq[index] = (freq[index-1]+freq[index+1])/2"
   ]
  },
  {
   "cell_type": "markdown",
   "metadata": {},
   "source": [
    "### 5) Write to Text"
   ]
  },
  {
   "cell_type": "code",
   "execution_count": 27,
   "metadata": {},
   "outputs": [],
   "source": [
    "with open(dataDir1,\"w\") as newFile:\n",
    "\n",
    "    for index in range(len(time)):\n",
    "        \n",
    "        t = time[index]\n",
    "        f = str(freq[index])\n",
    "        \n",
    "        # zero out  frequencies\n",
    "        if freq[index] < threshold:\n",
    "            f = '0.0'\n",
    "        \n",
    "        # unify the frame rate\n",
    "        if t.split(\".\")[1][2:] == \"0000000\":            \n",
    "            newFile.write(t+'\\t'+f+'\\n')"
   ]
  }
 ],
 "metadata": {
  "kernelspec": {
   "display_name": "Python 3",
   "language": "python",
   "name": "python3"
  },
  "language_info": {
   "codemirror_mode": {
    "name": "ipython",
    "version": 3
   },
   "file_extension": ".py",
   "mimetype": "text/x-python",
   "name": "python",
   "nbconvert_exporter": "python",
   "pygments_lexer": "ipython3",
   "version": "3.6.7"
  }
 },
 "nbformat": 4,
 "nbformat_minor": 2
}
