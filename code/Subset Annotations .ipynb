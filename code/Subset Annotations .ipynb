{
 "cells": [
  {
   "cell_type": "markdown",
   "metadata": {},
   "source": [
    "# Subset  Annotations .Json"
   ]
  },
  {
   "cell_type": "markdown",
   "metadata": {},
   "source": [
    "This code adds an usul key to the Makam dictionary and outputs a json file including the old annotations and the usul information. Makam and Usul names are encoded with **Turkish Alphabet**."
   ]
  },
  {
   "cell_type": "code",
   "execution_count": 1,
   "metadata": {},
   "outputs": [],
   "source": [
    "import collections\n",
    "import json\n",
    "import os\n"
   ]
  },
  {
   "cell_type": "code",
   "execution_count": 2,
   "metadata": {},
   "outputs": [],
   "source": [
    "# 70 recordings are available\n",
    "\n",
    "Huzzam ={'Türkaksağı': ['afcf5cc4-a0b5-4c8f-82a7-b90c54ed93fb'],\n",
    " 'Devr-i Hindi': ['32c3522a-e325-4e58-8a0a-0876a800823a'],\n",
    " 'Curcuna': ['4df2f27a-fca8-4166-9674-250855492187',\n",
    "  '9e02612c-5a0f-4d34-a627-773d86eb8532',\n",
    "  'dab34f13-7eec-4f87-8fb7-2d3b1ba24398',\n",
    "  'e2e5febb-1ad2-4478-adf6-47e4ee534b16',\n",
    "  'e652dfd7-79fc-4dd7-83ae-e586c62c45c4',\n",
    "  'febbbd9f-12bb-4e1f-8d09-9efc10fbe9ec',\n",
    "  'ee0a4b14-d968-4467-b418-3051b5818152'],\n",
    " 'Düyek': ['0fbb13d9-823d-4f93-af9f-f5e14e032f10',\n",
    "  '220a57b5-3e8a-4a22-93ed-e7400e6844c4',\n",
    "  '5fdff117-17a5-4d1a-88e7-c852efee9f35',\n",
    "  '6d13d17b-dbc1-4cc2-ad65-f2ccbb99f558',\n",
    "  'da4d7b0b-af8f-42ea-bce0-0bda85fa6801',\n",
    "  '44d4706b-a471-4ccf-974c-e1cb883660ca',\n",
    "  '5f135ea4-abc1-4b55-8335-722f059321a5',\n",
    "  '88be7dae-35d6-47c3-be09-be06d50a2659',\n",
    "  'acc2c656-a980-44fa-8f88-9d0c89ca1a4c'],\n",
    " 'Aksak': ['2c2b51b3-150b-4693-9383-9c467cbbdadd',\n",
    "  '3799145c-529c-41d2-998a-948a9292f4d8',\n",
    "  '0f7259dc-a41a-4cff-ab2a-48de40474409',\n",
    "  'fa8a4b53-bafb-467c-84ea-3089c28f9463',\n",
    "  '59dde1f8-ad30-41f0-9017-1c5b505ef9a0'],\n",
    " 'Yürüksemai': []}\n",
    "\n",
    "Huseyni = {'Türkaksağı': ['75a68ff2-7fe0-4012-afbe-f4de3b8a9a7d'],\n",
    " 'Devr-i Hindi': ['d7128150-850e-4903-bfcf-0eaf513e44b3'],\n",
    " 'Curcuna': ['a8ff9420-e55f-4af7-9089-3fe29686bc54'],\n",
    " 'Düyek': ['09ebd228-ac3a-412c-ab47-3a138156eeeb',\n",
    "  '81a9ae33-e801-48a6-9d4c-19d2565cf881',\n",
    "  'e9d04c33-5d2f-401e-ba12-df84fdb7a8c4',\n",
    "  'f0e215c0-49f8-4962-8263-590dfff02a31'],\n",
    " 'Aksak': ['634adddd-da66-4fd5-8058-c91a6ad9ad8e',\n",
    "  '6f26af11-7e51-4a2f-bca7-736a9c47fb3e',\n",
    "  'cbcf2d1c-8371-4a57-8893-a1958ed001d3',\n",
    "  'e259c2cc-6b0c-402b-a1a8-6396beab7e3f',\n",
    "  'b9c3e50e-45ce-46bf-a289-5d15123be49f'],\n",
    " 'Yürüksemai': ['0eac190d-13c4-442f-bb13-cf734d3cbe88',\n",
    "  '15434940-b1f0-4ca4-9c7f-8a09b09d9bc2',\n",
    "  'fc154485-c59d-4756-b997-73c7d05492ab']}    \n",
    "\n",
    "Saba = {'Türkaksağı': [],\n",
    " 'Devr-i Hindi': ['a49bf764-e19a-4c5f-bd74-07450affa35a',\n",
    "  '6bb23fdf-174e-4351-8002-fe3769664e21'],\n",
    " 'Curcuna': ['6f7aa664-bda1-434a-9f12-9b4d3cb9be7a',\n",
    "  'd35e07f4-fbf5-4efb-8a36-721565fa8044',\n",
    "  '455e6d06-e07b-4d43-9a27-9f0c07f174ad'],\n",
    " 'Düyek': ['0b45417b-acb4-4f8a-b180-5ad45be889af',\n",
    "  '79ef8add-d7c5-40b3-a172-44ec34da8ef9',\n",
    "  'afaddf40-84fa-4d4a-8bf1-57acaee91d3f',\n",
    "  'e05b2a9f-a129-4847-99ca-562628b97bc1',\n",
    "  '28c18713-b0f9-456d-9732-a9eae8ca0eed'],\n",
    " 'Aksak': ['1f6af8f0-9c70-4afe-99ab-40720fb2f26f',\n",
    "  'a80b0276-f769-433c-8944-d316848409c5',\n",
    "  'e5929839-8ce6-4ad0-97a3-eba5c82c9e3d',\n",
    "  'f95996b8-452d-4e7f-baa6-ded041a4ec35',\n",
    "  '3a000064-6a41-4c72-be7c-3c68bbbd5adf'],\n",
    " 'Yürüksemai': ['e7b707ec-21ca-42ce-a9f5-f7e2356058e3']}\n",
    "\n",
    "Rast = {'Türkaksağı': [],\n",
    " 'Devr-i Hindi': [],\n",
    " 'Curcuna': ['1701ceba-bd5a-477e-b883-5dacac67da43',\n",
    "  'e2e735a4-a034-4bc5-971e-ae5fa5969c7c'],\n",
    " 'Düyek': ['0967e5b6-8bff-45b3-9926-e9cb3d244463',\n",
    "  '179a80ad-d2e1-42ab-8e2a-b5307322925e',\n",
    "  '3e83ae71-0b22-49b1-b601-a5918063989f',\n",
    "  '5a372d52-2dd0-445e-9607-875c36beb29c',\n",
    "  '79ab9218-ceda-42c9-b2c6-5bfe0128ba24',\n",
    "  'b1e0c3ae-7070-4d80-80f3-2875a3802226',\n",
    "  'd9cdfff9-fe30-4064-b271-f97dbcf6071b',\n",
    "  '789270e5-8f0e-4103-ae5c-981dbacdea5c',\n",
    "  '09bfd6ea-7e7f-427c-b837-93030e9bce42',\n",
    "  '48fb37f4-0db9-4bf9-8051-51640bbcf6f1'],\n",
    " 'Aksak': ['26da8cac-5757-4494-a214-25ad564fc292',\n",
    "  'd24742bd-48cf-4ed9-be36-62ffe373b952'],\n",
    " 'Yürüksemai': ['149d651a-616e-49a9-8c76-036baa62ad9d',\n",
    "  '0321f83e-bee5-4009-983b-1b4fe3c89f23']}"
   ]
  },
  {
   "cell_type": "code",
   "execution_count": 3,
   "metadata": {},
   "outputs": [],
   "source": [
    "# Reading the dataset description file which contains a list of references to audio\n",
    "with open('annotations.json') as fp:\n",
    "    collectionFiles = json.load(fp)"
   ]
  },
  {
   "cell_type": "code",
   "execution_count": 4,
   "metadata": {},
   "outputs": [],
   "source": [
    "# defaultdict creation\n",
    "data = collections.defaultdict(list)"
   ]
  },
  {
   "cell_type": "code",
   "execution_count": 5,
   "metadata": {},
   "outputs": [],
   "source": [
    "# Converts the makam name to Türkçe\n",
    "def makamNameTurkish(makam):\n",
    "    makamTurkish = makam\n",
    "    if makam == 'Huseyni':\n",
    "        makamTurkish = 'Hüseyni'\n",
    "    elif makam == 'Huzzam':\n",
    "        makamTurkish = 'Hüzzam'\n",
    "    \n",
    "    return makamTurkish\n",
    "    "
   ]
  },
  {
   "cell_type": "code",
   "execution_count": 6,
   "metadata": {},
   "outputs": [],
   "source": [
    "# Add the Usul key to each of the recordings\n",
    "\n",
    "for file in collectionFiles:\n",
    "        \n",
    "    mixedMBID = file[\"mbid\"] \n",
    "    MBID = mixedMBID.split(\"/\").pop() # retrieve the MBID\n",
    "    makam = file[\"makam\"] # retrieve the makam\n",
    "    \n",
    "    makam = makamNameTurkish(makam)   \n",
    "    file['makam'] = makam\n",
    "    \n",
    "    for key1 in Rast.keys(): \n",
    "        if MBID in Rast[key1]:\n",
    "            #upperKey = key1.capitalize()\n",
    "            file.update({'usul' : key1}) \n",
    "            data[makam].append(file)\n",
    "            \n",
    "    for key2 in Saba.keys(): \n",
    "        if MBID in Saba[key2]:\n",
    "            #upperKey = key2.capitalize()\n",
    "            file.update({'usul' : key2})\n",
    "            data[makam].append(file)\n",
    "            \n",
    "    for key3 in Huzzam.keys(): \n",
    "        if MBID in Huzzam[key3]:\n",
    "            #upperKey = key3.capitalize()\n",
    "            file.update({'usul' : key3})\n",
    "            data[makam].append(file)\n",
    "            \n",
    "    for key4 in Huseyni.keys(): \n",
    "        if MBID in Huseyni[key4]:\n",
    "            #upperKey = key4.capitalize()\n",
    "            file.update({'usul' : key4})\n",
    "            data[makam].append(file)\n",
    "            \n",
    "    "
   ]
  },
  {
   "cell_type": "code",
   "execution_count": 7,
   "metadata": {},
   "outputs": [],
   "source": [
    "# For Türkçe Characters\n",
    "with open(\"subset_annotations.json\", \"w\",encoding='utf-8') as write_file:\n",
    "    json.dump(data, write_file, indent=8,ensure_ascii=False,)"
   ]
  },
  {
   "cell_type": "code",
   "execution_count": null,
   "metadata": {},
   "outputs": [],
   "source": [
    "with open(\"subset_annotations.json\", \"w\") as write_file:\n",
    "    json.dump(data, write_file, indent=8)"
   ]
  }
 ],
 "metadata": {
  "kernelspec": {
   "display_name": "Python 3",
   "language": "python",
   "name": "python3"
  },
  "language_info": {
   "codemirror_mode": {
    "name": "ipython",
    "version": 3
   },
   "file_extension": ".py",
   "mimetype": "text/x-python",
   "name": "python",
   "nbconvert_exporter": "python",
   "pygments_lexer": "ipython3",
   "version": "3.7.1"
  }
 },
 "nbformat": 4,
 "nbformat_minor": 2
}
