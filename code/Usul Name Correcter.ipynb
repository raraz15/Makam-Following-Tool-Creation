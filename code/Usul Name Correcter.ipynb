{
 "cells": [
  {
   "cell_type": "markdown",
   "metadata": {},
   "source": [
    "# Usul Name Correcter\n",
    "\n",
    "This code replaces Turkish usul names written in an unreadable form with their Turkish Alphabet versions."
   ]
  },
  {
   "cell_type": "markdown",
   "metadata": {},
   "source": [
    "#### d\\xc3\\xbcyek : Düyek\n",
    "#### y\\xc3\\xbcr\\xc3\\xbck : Yürüksemai\n",
    "#### \\xc3\\xa7ifted\\xc3\\x : Çiftedüyek\n",
    "#### a\\xc4\\x9f\\xc4\\xb1rd : Ağırdüyek\n",
    "#### t\\xc3\\xbcrkaksa\\xc4 : Türkaksağı\n",
    "#### \\xc3\\xa7iftesofyan : Çiftesofyan\n",
    "\n",
    "(if you add to the list of usuller, remember to put  another \\ in the dictionary.)"
   ]
  },
  {
   "cell_type": "code",
   "execution_count": 61,
   "metadata": {},
   "outputs": [],
   "source": [
    "# Enter the makam name who's makam_MBID_USUL.txt is ready\n",
    "\n",
    "makam = \"Huzzam\"\n",
    "\n",
    "text = open(makam+\"_MBID_Usul.txt\")\n",
    "asd = text.read()\n",
    "text.close()"
   ]
  },
  {
   "cell_type": "code",
   "execution_count": 62,
   "metadata": {},
   "outputs": [],
   "source": [
    "usulDict = {\n",
    "\"d\\\\xc3\\\\xbcyek\" : \"Düyek\",\n",
    "\"y\\\\xc3\\\\xbcr\\\\xc3\\\\xbck\" : \"Yürüksemai\",\n",
    "\"\\\\xc3\\\\xa7ifted\\\\xc3\\\\x\" : \"Çiftedüyek\",\n",
    "\"a\\\\xc4\\\\x9f\\\\xc4\\\\xb1rd\" : \"Ağırdüyek\",\n",
    "\"t\\\\xc3\\\\xbcrkaksa\\\\xc4\" : \"Türkaksağı\",\n",
    "\"\\\\xc3\\\\xa7iftesofyan\" : \"Çiftesofyan\"\n",
    "}"
   ]
  },
  {
   "cell_type": "code",
   "execution_count": 63,
   "metadata": {},
   "outputs": [],
   "source": [
    "fgh = asd\n",
    "\n",
    "for usul in usulDict:\n",
    "    fgh = fgh.replace(usul,usulDict[usul])"
   ]
  },
  {
   "cell_type": "code",
   "execution_count": 64,
   "metadata": {},
   "outputs": [],
   "source": [
    "newText = open(\"Readable_\"+makam+\"_MBID_Usul.txt\",\"a\")\n",
    "newText.write(fgh)\n",
    "newText.close()"
   ]
  },
  {
   "cell_type": "code",
   "execution_count": null,
   "metadata": {},
   "outputs": [],
   "source": []
  }
 ],
 "metadata": {
  "kernelspec": {
   "display_name": "Python 3",
   "language": "python",
   "name": "python3"
  },
  "language_info": {
   "codemirror_mode": {
    "name": "ipython",
    "version": 3
   },
   "file_extension": ".py",
   "mimetype": "text/x-python",
   "name": "python",
   "nbconvert_exporter": "python",
   "pygments_lexer": "ipython3",
   "version": "3.7.1"
  }
 },
 "nbformat": 4,
 "nbformat_minor": 2
}
