{
 "cells": [
  {
   "cell_type": "markdown",
   "metadata": {},
   "source": [
    "# MBID List to recordingsData.json\n",
    "\n",
    "This code takes a list of MBIDs and creates a json file including the recording list, record informations, pitchSpaces and pitchTracks of each recording.\n"
   ]
  },
  {
   "cell_type": "markdown",
   "metadata": {},
   "source": [
    "## 1) Initialization"
   ]
  },
  {
   "cell_type": "code",
   "execution_count": 1,
   "metadata": {},
   "outputs": [],
   "source": [
    "# Set your token here from https://dunya.compmusic.upf.edu/user/profile/\n",
    "# This is a random token\n",
    "token = 'j9fh831536f7f98hp18b3d148klbc2by4k21fx7'\n",
    "\n",
    "import os \n",
    "import json\n",
    "import matplotlib.pyplot as plt\n",
    "import matplotlib.ticker as ticker\n",
    "import numpy as np\n",
    "from compmusic.dunya import docserver as ds\n",
    "from compmusic import dunya as dn\n",
    "from external_utilities.predominantmelodymakam import PredominantMelodyMakam\n",
    "from external_utilities.pitchdistribution import PitchDistribution\n",
    "from external_utilities.converter import Converter\n",
    "\n",
    "from compmusic import dunya\n",
    "dn.set_token(token)\n",
    "\n",
    "%matplotlib inline\n",
    "\n",
    "REF_PITCH=220 \n",
    "\n",
    "CENTS_IN_OCTAVE= 1200\n",
    "KOMAS_IN_OCTAVE = 53\n",
    "KOMA_CENT = CENTS_IN_OCTAVE / KOMAS_IN_OCTAVE"
   ]
  },
  {
   "cell_type": "code",
   "execution_count": 2,
   "metadata": {},
   "outputs": [],
   "source": [
    "MBID = [ \n",
    "        # Hüseyni\n",
    "        \"75a68ff2-7fe0-4012-afbe-f4de3b8a9a7d\", # Baygın Suların          0\n",
    "        #\"a8ff9420-e55f-4af7-9089-3fe29686bc54\",# Sarı Gelin \n",
    "        \"cbcf2d1c-8371-4a57-8893-a1958ed001d3\", # Demirciler Demir        1\n",
    "        \"f0e215c0-49f8-4962-8263-590dfff02a31\",  # Egin Havası            2\n",
    "        \"0eac190d-13c4-442f-bb13-cf734d3cbe88\", # Senden Bilirim          3\n",
    "        # Saba\n",
    "        \"a49bf764-e19a-4c5f-bd74-07450affa35a\", # Cümle Hüccac            4\n",
    "        \"d35e07f4-fbf5-4efb-8a36-721565fa8044\", # Süzdükçe Güzel          5\n",
    "        #\"e05b2a9f-a129-4847-99ca-562628b97bc1\", # Saba Peşrev             \n",
    "        \"a80b0276-f769-433c-8944-d316848409c5\", # Bir Esmere Gönül        6\n",
    "        # Hüzzam\n",
    "        \"e2e5febb-1ad2-4478-adf6-47e4ee534b16\", # Yine Kalbim             7\n",
    "        \"220a57b5-3e8a-4a22-93ed-e7400e6844c4\", # Şu Göğsüm               8\n",
    "        \"2c2b51b3-150b-4693-9383-9c467cbbdadd\", # Sormadın Halimi         9\n",
    "        # Rast\n",
    "        \"1701ceba-bd5a-477e-b883-5dacac67da43\", # Nihansın Dideden Ey    10\n",
    "        \"48fb37f4-0db9-4bf9-8051-51640bbcf6f1\", # Bais-i Berbadım        11 \n",
    "        \"26da8cac-5757-4494-a214-25ad564fc292\",  # Rast Zeybek           12\n",
    "        \"0321f83e-bee5-4009-983b-1b4fe3c89f23\" # Yüzüdür Cihanı          13       \n",
    "        ]"
   ]
  },
  {
   "cell_type": "code",
   "execution_count": 3,
   "metadata": {},
   "outputs": [],
   "source": [
    "dataDir = os.path.join('..', 'Oguz', 'data','recordings')\n",
    "os.makedirs(dataDir, exist_ok=True) "
   ]
  },
  {
   "cell_type": "markdown",
   "metadata": {},
   "source": [
    "## 2) Record Information\n",
    "\n",
    "This part obtains the relevant information about the recording. info = { 'ID' : 'easing', 'Makam', ... }"
   ]
  },
  {
   "cell_type": "code",
   "execution_count": 4,
   "metadata": {},
   "outputs": [],
   "source": [
    "# enter the easing value corresponding to the recording in the list\n",
    "easing = [0.3, 0.15, 0.2, 0.2, 0.2, 0.1, 0.2, 0.2, 0.2, 0.2, 0.2, 0.2, 0.2, 0.4, 0.2 ]\n",
    "#          0    1    2    3    4    5    6    7    8    9    10    11   12   13   14"
   ]
  },
  {
   "cell_type": "markdown",
   "metadata": {},
   "source": [
    "The cell below reads the record information from the Info.json file that has the information from musicbrainz"
   ]
  },
  {
   "cell_type": "code",
   "execution_count": 7,
   "metadata": {},
   "outputs": [],
   "source": [
    "info = dict() # Dictionary for the record information"
   ]
  },
  {
   "cell_type": "markdown",
   "metadata": {},
   "source": [
    "The cell below is for **reading** information from the **info.json** file."
   ]
  },
  {
   "cell_type": "code",
   "execution_count": 8,
   "metadata": {},
   "outputs": [],
   "source": [
    "with open(\"metaData/Info.json\", \"r\",encoding='utf-8') as readf3:\n",
    "    info = json.load(readf3)\n",
    "    \n",
    "for counter, ID in enumerate(MBID):\n",
    "    info[ID]['easing'] = easing[counter]"
   ]
  },
  {
   "cell_type": "markdown",
   "metadata": {},
   "source": [
    "The cell below is for **reading** information from **MusicBrainz**."
   ]
  },
  {
   "cell_type": "markdown",
   "metadata": {},
   "source": [
    "for counter, ID in enumerate(MBID):\n",
    " \n",
    "    MB_dict = dn.conn._dunya_query_json(\"api/makam/recording/%s\" %ID) # Retrieve Info From MusicBrainz\n",
    "    \n",
    "    info[ID] = {'easing': easing[counter] ,\n",
    "                'makam': MB_dict['makamlist'][0]['name'],\n",
    "                'usul': MB_dict['usullist'][0]['name'],\n",
    "                'title': MB_dict['title'],\n",
    "                'artist': MB_dict['artists'][0]['name'],\n",
    "                'link': \"https://musicbrainz.org/recording/\"+ID,\n",
    "                'option': '{} ({}, {})'.format(MB_dict['title'], MB_dict['makamlist'][0]['name'],MB_dict['usullist'][0]['name']),\n",
    "                'trackFile': ID+\".mp3\"\n",
    "                #'duration' is put in the Pitch Track part\n",
    "    }"
   ]
  },
  {
   "cell_type": "markdown",
   "metadata": {},
   "source": [
    "## 3) Pitch Track and Pitch Series\n",
    "The cells below: \n",
    "1. Creates a pitch track dictionary **pitchTrack = { 'MBID': { 'Hz': pitchTrack, 'cents': pitchTrack } }**, where **pitchTrack = {'time' : 'pitch'} in Hz and cents **,\n",
    "2. Creates a pitch Series(Hz) dictionary **pitchSeriesHz = {'MBID' : pitch_serie_Hz }**, where **pitch_serie_Hz** is a numpy array and,\n",
    "3. Creates a pitch track file **MBID.pitch**\n",
    "\n",
    "'time' incrementation is determined by the  **timeStep**,\n",
    " \n",
    " $$timeStep = \\frac{hopSize}{samplingFrequency}$$\n",
    " "
   ]
  },
  {
   "cell_type": "code",
   "execution_count": 9,
   "metadata": {},
   "outputs": [],
   "source": [
    "hopSize = 441 # for 0.01 seconds timeStep"
   ]
  },
  {
   "cell_type": "code",
   "execution_count": 10,
   "metadata": {},
   "outputs": [],
   "source": [
    "def compute_pitch(filename):\n",
    "    \n",
    "    extractor = PredominantMelodyMakam(hopSize,filter_pitch=True)    \n",
    "    results = extractor.run(filename)\n",
    "    \n",
    "    timeStep = extractor.get_settings()['hopSize'] / extractor.get_settings()['sampleRate']\n",
    "              \n",
    "    pitch = results['settings']  # collapse the keys in settings\n",
    "    pitch['pitch'] = results['pitch']\n",
    "    pitch['timeStep'] = timeStep\n",
    "    \n",
    "    return pitch"
   ]
  },
  {
   "cell_type": "code",
   "execution_count": 11,
   "metadata": {},
   "outputs": [],
   "source": [
    "pitchTrack = {} # Dictionary for pitch track in Hz and cents\n",
    "pitchSeriesHz = dict() # Dictionary for the pitch Series in Hz"
   ]
  },
  {
   "cell_type": "code",
   "execution_count": 12,
   "metadata": {},
   "outputs": [],
   "source": [
    "def truncate(x,y):\n",
    "    return int(x*(10)**y) / 10**y   "
   ]
  },
  {
   "cell_type": "code",
   "execution_count": 13,
   "metadata": {},
   "outputs": [],
   "source": [
    "# The dictionary containing the tonic information of all the 70 recordings, taken from subset_annotations.json\n",
    "with open('metaData/MBID_tonic.json', \"r\",encoding='utf-8') as readf2:\n",
    "    tonicDict = json.load(readf2)"
   ]
  },
  {
   "cell_type": "markdown",
   "metadata": {},
   "source": [
    " The cell below **creates the pitch file or reads it**\n",
    " \n",
    " Use smoothed pitch files for accuracy."
   ]
  },
  {
   "cell_type": "code",
   "execution_count": 14,
   "metadata": {},
   "outputs": [
    {
     "name": "stdout",
     "output_type": "stream",
     "text": [
      "Loading Pitch Track\n",
      "Loading Pitch Track\n",
      "Loading Pitch Track\n",
      "Loading Pitch Track\n",
      "Loading Pitch Track\n",
      "Loading Pitch Track\n",
      "Loading Pitch Track\n",
      "Loading Pitch Track\n",
      "Loading Pitch Track\n",
      "Loading Pitch Track\n",
      "Loading Pitch Track\n",
      "Loading Pitch Track\n",
      "Loading Pitch Track\n",
      "Loading Pitch Track\n"
     ]
    }
   ],
   "source": [
    "for ID in MBID:\n",
    "    \n",
    "    mp3_filename = os.path.join(dataDir, '{}.mp3'.format(ID))\n",
    "    pitchFile = os.path.join('data','pitchTracks','correct_pitchTracks','{}.txt'.format(ID))\n",
    "    \n",
    "    tonic_hz = tonicDict[ID] # tonic information is from subset_annotations\n",
    "   \n",
    "    pitchTrack[ID] = {'Hz': dict(), 'cents': dict()} \n",
    "   \n",
    "    # If pitch file exists, read it, if not run extractor and create the pitch file\n",
    "    if not os.path.exists(pitchFile):\n",
    "        print('Extracting Pitch Track {}'.format(ID))\n",
    "\n",
    "        pitch = compute_pitch(mp3_filename) # Time / Pitch / Salience \n",
    "       \n",
    "        pitch_serie_Hz = [] # Pitch Track List\n",
    "        \n",
    "        with open(pitchFile, 'w') as fp:\n",
    "            for p_triplet in pitch['pitch']:\n",
    "                \n",
    "                # p is for hz, c is for cents\n",
    "                if not p_triplet[1]:\n",
    "                    p = 'S'   # put an S for Silent\n",
    "                    c = 'S'\n",
    "                else:\n",
    "                    p = truncate(p_triplet[1],2)\n",
    "                    # convert it then truncate \n",
    "                    c = truncate(Converter.hz_to_cent(p_triplet[1],tonic_hz),2)\n",
    "                \n",
    "                # p_triplet is for the .pitch file \n",
    "                fp.write(str(p_triplet[0]) + '\\t' + str(p_triplet[1] ) + '\\n') \n",
    "                \n",
    "                pitch_serie_Hz.append(p_triplet[1]) \n",
    "                \n",
    "                pitchTrack[ID]['Hz'][p_triplet[0]] = p # Add the time key and the pitch to the dict\n",
    "                pitchTrack[ID]['cents'][p_triplet[0]] = c # Add the time key and the cent to the dict\n",
    "            \n",
    "        pitch_serie_Hz = np.array(pitch_serie_Hz)\n",
    "             \n",
    "    else:\n",
    "        print('Loading Pitch Track')\n",
    "        \n",
    "        pitchData = np.loadtxt(pitchFile)\n",
    "        timeStamps = pitchData[:,0]\n",
    "        pitch_serie_Hz = pitchData[:,1]\n",
    "        \n",
    "        for p_duo in pitchData:\n",
    "            \n",
    "            if not p_duo[1]:\n",
    "                p = 'S'\n",
    "                c = 'S'\n",
    "            else:\n",
    "                p = truncate(p_duo[1],2)\n",
    "                c = truncate(Converter.hz_to_cent(p_duo[1],tonic_hz),2)\n",
    "            \n",
    "            pitchTrack[ID]['Hz'][p_duo[0]] = p # Add the time key and the pitch \n",
    "            pitchTrack[ID]['cents'][p_duo[0]] = c # Add the time key and the cent \n",
    "                            \n",
    "    pitchSeriesHz[ID] = pitch_serie_Hz # Record the pitch series array in the dictionary\n",
    "    info[ID]['duration'] = list(pitchTrack[ID]['Hz'].keys())[-1] # Add the duration to the info Key"
   ]
  },
  {
   "cell_type": "markdown",
   "metadata": {},
   "source": [
    "## 4) Pitch Distribution and Pitch Space\n",
    "\n",
    "This part is for extracting the pitch space of a recording and creating the pitchSpace = { 'MBID' : pitchDict }, where the pitchDict has the pitch and cent information."
   ]
  },
  {
   "cell_type": "code",
   "execution_count": 15,
   "metadata": {},
   "outputs": [],
   "source": [
    "# Function definition for automatic scale-interval detection from pitch distribution\n",
    "def peakLocationDetection(pcd,tresh,ws):\n",
    "    '''A simple peak detection implementation for demonstration purposes\n",
    "    Thresholds are manually set for this demo\n",
    "    '''\n",
    "    windowSize = ws  # should be odd\n",
    "    midPointIndex = int(windowSize / 2)\n",
    "    threshold = np.max(pcd) * tresh\n",
    "    peakIndexes = []\n",
    "    for index in range(len(pcd)-windowSize):\n",
    "        frame = pcd[index:index+windowSize]\n",
    "        if np.argmax(frame) == midPointIndex and np.max(frame) > threshold:\n",
    "            peakIndexes.append(index + midPointIndex)\n",
    "    return peakIndexes"
   ]
  },
  {
   "cell_type": "code",
   "execution_count": 16,
   "metadata": {},
   "outputs": [],
   "source": [
    "def komaValidator(lst,bound,iterations):\n",
    "    \"\"\"\n",
    "    This function takes a list in cents, a lower bound in cents for identifying two different \n",
    "    perdeler, and the number of iterations to be performed to return a new list in cents, that\n",
    "    are seperated by at least the bound (1 Hc preferably). It keeps the larger of the two perde.    \n",
    "    \"\"\"\n",
    "    assert bound >= 22.0, 'The lower bound must be greater than 22 cents!'\n",
    "    \n",
    "    new_lst = lst.copy()\n",
    "    \n",
    "    for a in range(iterations):\n",
    "        \n",
    "        delta = []\n",
    "\n",
    "        for i in range(len(new_lst)-1):\n",
    "            delta.append(new_lst[i+1]-new_lst[i])\n",
    "\n",
    "        for j in range(len(delta)-1):\n",
    "            if delta[j] < bound:                \n",
    "                new_lst.remove( min(new_lst[j],new_lst[j+1])) # discard the smallest\n",
    "                break # exit the inner for loop\n",
    "                \n",
    "    return new_lst        "
   ]
  },
  {
   "cell_type": "code",
   "execution_count": 17,
   "metadata": {},
   "outputs": [],
   "source": [
    "def shift_to_tonic(lst):\n",
    "    \"\"\"\n",
    "    This function takes a list of a pitch space in cents and returns how much the list is shifted from the tonic,\n",
    "    with the cents list centered around the tonic.\n",
    "    \"\"\"    \n",
    "    dist = 0\n",
    "    nlst = lst.copy()\n",
    "\n",
    "    # if 0.0 is in the list exit code        \n",
    "    if not (0.0 in nlst):        \n",
    "        neg = []\n",
    "        pos = []\n",
    "            \n",
    "        for l in nlst:           \n",
    "            if l < 0:\n",
    "                neg.append(l)\n",
    "            elif l> 0:\n",
    "                pos.append(l)\n",
    "                        \n",
    "        if not neg:            \n",
    "            dist = min(pos)\n",
    "            nlst = [l - dist  for l in nlst]                        \n",
    "        else:\n",
    "            m1 = max(neg)\n",
    "            m2 = min(pos)\n",
    "\n",
    "            if abs(m1) > m2:\n",
    "                dist = m2\n",
    "                nlst = [l - dist for l in nlst]\n",
    "            else:\n",
    "                dist = m1\n",
    "                nlst = [l - dist for l in nlst]        \n",
    "        \n",
    "    return nlst,dist               "
   ]
  },
  {
   "cell_type": "markdown",
   "metadata": {},
   "source": [
    "### 4.1) Pitch Distribution Calculations\n",
    "\n",
    "This part computes the **pitch distributions** for each recording using the **peakLocationDetection()** algorithm  and,\n",
    "\n",
    "creates the **pitchSpace = { 'MBID':  { 'cents': [ ], 'validated cents': [ ], 'tonic shift': { 'cents': [ ], 'distance': float } } }** .\n",
    "\n",
    "The parameters for pitch distriburion calculation are stored in the **pd_params = {}**\n",
    "\n",
    "The initial peaks are stored in the **'cents'**, they are koma validated and stored in the **'validated cents'** and finally are shifted so that the tonic is at 0.0 cents in the **'tonic shift[ 'cents' ]**. \n",
    "\n",
    "The pitch distribution objects are stored in the **pitchDistrib = { 'ID': predominantMelodymakam() }**. Also all the cent bins are shifted so that 0.0 cent is in the Pitch Space and stored in the **pitchDistrib_binsShifted : {}**\n",
    "\n",
    "Finally, if you expected to hear a cent between some peaks in the pitch space, you can enter the boundaries of the intervals and append a single cent in that interval to the pitch space in **part 4.2**"
   ]
  },
  {
   "cell_type": "code",
   "execution_count": 16,
   "metadata": {},
   "outputs": [],
   "source": [
    "pitchSpace = dict() # Dictionary for the Pitch Spaces\n",
    "pd_params = { MBID[0] : {'step_size': 5,  'kernel_width': 2.5,   'threshold': 0.05,'windowSize':13}, # baygın\n",
    "             MBID[1] : {'step_size': 5,  'kernel_width': 2.5,   'threshold': 0.04,'windowSize':9}, # demir\n",
    "             MBID[2] : {'step_size': 5,  'kernel_width': 5,   'threshold': 0.04,'windowSize':13}, # egin\n",
    "             MBID[3] : {'step_size': 5,  'kernel_width': 2.5,   'threshold': 0.03,'windowSize':11}, #senden\n",
    "             #\"a8ff9420-e55f-4af7-9089-3fe29686bc54\" : {'kernel_width': 5, 'step_size': 2.5,'threshold': 0.05,'windowSize':13},\n",
    "             MBID[4] : {'step_size': 5,  'kernel_width': 2.5,     'threshold': 0.04,'windowSize':13}, #cümle\n",
    "             MBID[5] : {'step_size': 5,  'kernel_width': 2.5,   'threshold': 0.05,'windowSize':9}, #süzdükçe\n",
    "             #MBID[6] : {'kernel_width': 5, 'step_size': 2.5,'threshold': 0.05,'windowSize':13}, # saba\n",
    "             MBID[6] : {'kernel_width': 5, 'step_size': 7.5,'threshold': 0.05,'windowSize':13}, # bir esmere\n",
    "             MBID[7] : {'step_size': 5,  'kernel_width': 7.5,  'threshold': 0.05,'windowSize':11}, # yine kalbim\n",
    "             MBID[8] : {'step_size': 5,  'kernel_width': 5,    'threshold': 0.04,'windowSize':11}, # şu göğsüm\n",
    "             MBID[9] : {'step_size': 5,   'kernel_width': 2.5,    'threshold': 0.04,'windowSize':11}, # sormadın      \n",
    "             MBID[10] : {'step_size': 2.5, 'kernel_width': 5,    'threshold': 0.03,'windowSize':11}, # nihansın\n",
    "             MBID[11] : {'step_size': 5, 'kernel_width': 7.5,   'threshold': 0.03,'windowSize':11}, #bais-i berbad\n",
    "             MBID[12] : {'step_size': 5,   'kernel_width': 7.5,  'threshold': 0.01,'windowSize':13}, #rast zeybek\n",
    "             MBID[13] : {'step_size': 5,   'kernel_width': 7.5,  'threshold': 0.05,'windowSize':13} #yüzüdür cihan\n",
    "}"
   ]
  },
  {
   "cell_type": "code",
   "execution_count": 17,
   "metadata": {},
   "outputs": [],
   "source": [
    "pitchDistrib = {} "
   ]
  },
  {
   "cell_type": "code",
   "execution_count": 18,
   "metadata": {},
   "outputs": [],
   "source": [
    "# Creating the Pitch Space\n",
    "for ID in MBID:\n",
    "    \n",
    "    pitchSpace[ID] = {}\n",
    "    \n",
    "    # Computing pitch distribution with reference frequency = tonic\n",
    "    pitch_distribution_tonicRef = PitchDistribution.from_hz_pitch(pitchSeriesHz[ID], tonicDict[ID],\\\n",
    "                                        pd_params[ID]['kernel_width'],pd_params[ID]['step_size'])\n",
    "    \n",
    "    # Record the Pitch Distributions    \n",
    "    pitchDistrib[ID] = pitch_distribution_tonicRef\n",
    "        \n",
    "    # PLD peak picking\n",
    "    peakLocations = list(peakLocationDetection(pitch_distribution_tonicRef.vals,\\\n",
    "                                       pd_params[ID]['threshold'],pd_params[ID]['windowSize']))\n",
    "   \n",
    "\n",
    "    # This part is for computing seperate distributions for the lower octave and the higher.\n",
    "    if ID == MBID[9]:\n",
    "        pitch_distribution0 = PitchDistribution.from_hz_pitch(pitchSeriesHz[ID], tonicDict[ID],\\\n",
    "                                        5,5)           \n",
    "        peak_locations0 = list(peakLocationDetection(pitch_distribution0.vals,\\\n",
    "                                       pd_params[ID]['threshold'],pd_params[ID]['windowSize']))\n",
    "        \n",
    "        peaks0 = list(pitch_distribution0.bins[peak_locations0])\n",
    "        \n",
    "        lower_peaks = [i for i in peaks0 if i < 0.0]\n",
    "        higher_peaks = [i for i in pitch_distribution_tonicRef.bins[peakLocations] if i>= 0.0 ]\n",
    "        \n",
    "        peaks = lower_peaks + higher_peaks\n",
    "            \n",
    "    # the peaks in cents\n",
    "    if not ID == MBID[9]:\n",
    "        pitchSpace[ID]['cents'] = list(pitch_distribution_tonicRef.bins[peakLocations])\n",
    "    else:\n",
    "        pitchSpace[ID]['cents'] = peaks\n",
    "            \n",
    "    pitchSpace[ID]['validated cents'] = komaValidator(pitchSpace[ID]['cents'],KOMA_CENT,20) # koma validate the peaks\n",
    "    \n",
    "    # center the distribution around the calculated tonic\n",
    "    shifted,distance = shift_to_tonic(pitchSpace[ID]['validated cents'])\n",
    "    pitchSpace[ID]['tonic shift'] = {'cents': shifted, 'distance': distance }       "
   ]
  },
  {
   "cell_type": "code",
   "execution_count": 19,
   "metadata": {},
   "outputs": [],
   "source": [
    "pitchDistrib_binsShifted = {} # all the bins are shifted \n",
    "for ID in MBID:\n",
    "        \n",
    "    pitchDistrib_binsShifted[ID] = [i-pitchSpace[ID]['tonic shift']['distance'] for i in pitchDistrib[ID].bins]    "
   ]
  },
  {
   "cell_type": "markdown",
   "metadata": {},
   "source": [
    "### 4.2) Pitch Space Correction\n",
    "\n",
    "This part is for pitch space correction.You can remove and add certains manually or you can specify an interval in cents and add the most prominent cent in that interval automatically."
   ]
  },
  {
   "cell_type": "markdown",
   "metadata": {},
   "source": [
    "**A)** This cell is for **manually** correcting the Pitch Space with a posteori inspection."
   ]
  },
  {
   "cell_type": "code",
   "execution_count": 20,
   "metadata": {},
   "outputs": [],
   "source": [
    "# Senden bilirim\n",
    "pitchSpace[MBID[3]]['tonic shift']['cents'].remove(-905.0)\n",
    "\n",
    "# Süzdükçe Güzel\n",
    "pitchSpace[MBID[5]]['tonic shift']['cents'].remove(500.0) # Transition\n",
    "pitchSpace[MBID[5]]['tonic shift']['cents'].remove(225.0)\n",
    "\n",
    "# Yine Kalbim\n",
    "pitchSpace[MBID[7]]['tonic shift']['cents'].remove(565.0) # FM False \n",
    "\n",
    "# Nihansın Dideden\n",
    "pitchSpace[MBID[10]]['tonic shift']['cents'].remove(805.0) # FM False \n",
    "\n",
    "# Bais-i Berbadım\n",
    "pitchSpace[MBID[11]]['tonic shift']['cents'].remove(820.0)\n",
    "pitchSpace[MBID[11]]['tonic shift']['cents'].remove(1000.0)\n",
    "pitchSpace[MBID[11]]['tonic shift']['cents'].remove(1080.0)\n",
    "pitchSpace[MBID[11]]['tonic shift']['cents'].remove(1130.0)\n",
    "\n",
    "# Rast Zeybek\n",
    "pitchSpace[MBID[12]]['tonic shift']['cents'].remove(605.0) "
   ]
  },
  {
   "cell_type": "markdown",
   "metadata": {},
   "source": [
    "**B)** This part is for specifying the intervals that you expect a peak and **automatically updating** the pitch space\n",
    "\n",
    "Enter the **boundaries** of the frequency intervals where you expect a peak and leave the list **empty otherwise**\n",
    "\n",
    "**Note**: Be sure that the boundary values are **increasing!**"
   ]
  },
  {
   "cell_type": "code",
   "execution_count": 21,
   "metadata": {},
   "outputs": [],
   "source": [
    "# MBID[2]: [495, 700, 1005, 1190]    MBID[4]: [-100, -50, 565, 685, 705, 810, 1050, 1100]\n",
    "boundaries = {MBID[0]: [], MBID[1]: [] , MBID[2]: [], MBID[3]: [], \n",
    "              MBID[4]: [], MBID[5]: [500.0,600.0,745.0,800.0], MBID[6]: [],\n",
    "              MBID[7]: [], MBID[8]: [], MBID[9]: [], MBID[10]: [],\n",
    "              MBID[11]: [], MBID[12]: [], MBID[13]: []} \n",
    "\n",
    "new_cents = {MBID[0]: [], MBID[1]: [], MBID[2]: [], MBID[3]: [], MBID[4]: [], MBID[5]: [], MBID[6]: [], MBID[7]: [], MBID[8]: [], \n",
    "             MBID[9]: [], MBID[10]: [],MBID[11]: [], MBID[12]: [],MBID[13]: []}"
   ]
  },
  {
   "cell_type": "code",
   "execution_count": 22,
   "metadata": {},
   "outputs": [],
   "source": [
    "for ID in MBID: \n",
    "\n",
    "    for i in range(int(len(boundaries[ID])/2)):\n",
    "        \n",
    "        # find the interval\n",
    "        b0 = boundaries[ID][2*i]\n",
    "        b1 = boundaries[ID][2*i+1]\n",
    "\n",
    "        #find the indexes of the boundaries\n",
    "        i0 = pitchDistrib_binsShifted[ID].index(b0)\n",
    "        i1 = pitchDistrib_binsShifted[ID].index(b1)\n",
    "\n",
    "        interval = range(i0,i1)\n",
    "\n",
    "        # the values in the interval\n",
    "        A = pitchDistrib[ID].vals[interval]\n",
    "\n",
    "        # use peak detection on the interval\n",
    "        small_peak_locs = list(peakLocationDetection(A, 0.05 ,3))\n",
    "\n",
    "        # find the index inside the interval\n",
    "        ind = np.where(A == max(A[small_peak_locs]))[0][0]\n",
    "\n",
    "        # find the corresponding cent\n",
    "        cent = pitchDistrib_binsShifted[ID][i0+ind]\n",
    "        new_cents[ID].append(cent)\n",
    "\n",
    "    for c in new_cents[ID]:\n",
    "        pitchSpace[ID]['tonic shift']['cents'].append(c)\n",
    "                \n",
    "    pitchSpace[ID]['tonic shift']['cents'].sort()"
   ]
  },
  {
   "cell_type": "markdown",
   "metadata": {},
   "source": [
    "### 4.3) Perde Dictionary\n",
    "\n",
    "This part is for creating the perde dictionary including perde names, perde functions and keyboard mappings.\n",
    "\n",
    "Load the **Makam Dictionary(MakamInformation.json)** including the perde names and tonal information of the makams.\n",
    "The information here is taken from the Turkish Makam Music Guide, Murat Aydemir, 2010, İstanbul."
   ]
  },
  {
   "cell_type": "code",
   "execution_count": 23,
   "metadata": {},
   "outputs": [],
   "source": [
    "with open('metaData/MakamInformation.json', \"r\",encoding='utf-8') as rf:\n",
    "    makamDict = json.load(rf)"
   ]
  },
  {
   "cell_type": "code",
   "execution_count": 24,
   "metadata": {},
   "outputs": [],
   "source": [
    "def perdeNameFinder(cent,makamName,makamDict,eps):\n",
    "    \"\"\"\n",
    "    This function takes a cent value, the name of the Makam, the Makam Dictionary,\n",
    "    and an epsilon value for interval searching and returns the name of the perde.\n",
    "    Perde names are taken from the AEU system.\n",
    "    \"\"\"\n",
    "    makam = makamDict[makamName]\n",
    "    name =''    \n",
    "    \n",
    "    for i in range(len(makam['cents'])):\n",
    "        if abs(cent-makam['cents'][i]) <= eps:\n",
    "            name = makam['perdeler'][i]\n",
    "\n",
    "    return name"
   ]
  },
  {
   "cell_type": "code",
   "execution_count": 25,
   "metadata": {},
   "outputs": [],
   "source": [
    "def functionFinder(perdeName,makamName):\n",
    "    \"\"\"\n",
    "    This method takes the name of a perde and the Makam of interest and returns the function of the perde. \n",
    "    \"\"\"\n",
    "    function = ''\n",
    "\n",
    "    if makamName == 'Rast' and (perdeName == 'Rast' or perdeName == 'Gerdaniye' ):\n",
    "        function = 'tonic'\n",
    "    elif makamName == 'Rast' and perdeName == 'Neva':\n",
    "        function = 'dominant'\n",
    "\n",
    "    if makamName == 'Hüzzam' and (perdeName == 'Segah' or perdeName == 'Tiz Segah'):\n",
    "        function = 'tonic'\n",
    "    elif makamName == 'Hüzzam' and perdeName == 'Neva':\n",
    "        function = 'dominant'\n",
    "\n",
    "    if makamName == 'Hüseyni' and (perdeName == 'Dügah' or perdeName == 'Muhayyer'):\n",
    "        function = 'tonic'\n",
    "    elif makamName == 'Hüseyni' and perdeName == 'Hüseyni':\n",
    "        function = 'dominant'\n",
    "\n",
    "    if makamName == 'Saba' and (perdeName == 'Dügah'):\n",
    "        function = 'tonic'\n",
    "    elif makamName == 'Saba' and perdeName == 'Çargah':\n",
    "        function = 'dominant'\n",
    "\n",
    "    return function    "
   ]
  },
  {
   "cell_type": "markdown",
   "metadata": {},
   "source": [
    "The cell below creates a list of pitch dictionaries and forms the **Pitch Space**."
   ]
  },
  {
   "cell_type": "code",
   "execution_count": 26,
   "metadata": {},
   "outputs": [],
   "source": [
    "keyboard = {'lower octave': ['z','x','c','v','b','n','m','ö','ç'], \n",
    "            'main octave': ['a','s','d','f','g','h','j','k','l','ş','i'],\n",
    "            'higher octave': ['q','w','e','r','t','y','u','ı','o','p']}"
   ]
  },
  {
   "cell_type": "code",
   "execution_count": 27,
   "metadata": {
    "scrolled": true
   },
   "outputs": [],
   "source": [
    "for ID in MBID:\n",
    "    \n",
    "    pitchSpace[ID]['pitch space'] = []\n",
    "    \n",
    "    makamName = info[ID]['makam'] # Retrieve the makam name\n",
    "    makam = makamDict[makamName]  # Accessing the tonal information dictionary\n",
    "    \n",
    "    perdeler = pitchSpace[ID]['tonic shift']['cents']\n",
    "      \n",
    "    # Keyboard button mapping needs accurate pitch spaces    \n",
    "    counter0 = -1;counter1 = -1;counter2 = -1\n",
    "\n",
    "    for perde in perdeler:\n",
    "\n",
    "        perdeName = perdeNameFinder(perde,makamName,makamDict,KOMA_CENT)\n",
    "        \n",
    "        button = \"\"\n",
    "                \n",
    "        if perde < 0.0:\n",
    "            counter0 += 1\n",
    "\n",
    "            if counter0 <= len(keyboard['lower octave'])-1:\n",
    "                button = keyboard['lower octave'][counter0]\n",
    "\n",
    "        elif perde >= 0.0 and perde < 1200-KOMA_CENT:\n",
    "            counter1 += 1\n",
    "\n",
    "            if counter1 <= len(keyboard['main octave'])-1:\n",
    "                button = keyboard['main octave'][counter1]    \n",
    "\n",
    "        elif perde >= 1200-KOMA_CENT:\n",
    "            counter2 += 1\n",
    "\n",
    "            if counter2 <= len(keyboard['higher octave'])-1:\n",
    "                button = keyboard['higher octave'][counter2]\n",
    "\n",
    "\n",
    "        pitchDict = {\"perdeName\": perdeName,  \n",
    "             \"pitch\": truncate(Converter.cent_to_hz(perde,tonicDict[ID]),2),# cents to hz, truncate after 2\n",
    "             \"cent\": perde,\n",
    "             \"key\" : button,\n",
    "             \"function\": functionFinder(perdeName,makamName)\n",
    "        }\n",
    "\n",
    "        pitchSpace[ID]['pitch space'].append(pitchDict)"
   ]
  },
  {
   "cell_type": "markdown",
   "metadata": {},
   "source": [
    "## 5) Melody Dictionary\n",
    "\n",
    "This part combines the pitchTrack and the pitchSpace dictionaries into a single melody dictionary: **melody = { 'MBID' : pitchSpace, pitchTrack }**"
   ]
  },
  {
   "cell_type": "code",
   "execution_count": 28,
   "metadata": {},
   "outputs": [],
   "source": [
    "melody = dict()"
   ]
  },
  {
   "cell_type": "code",
   "execution_count": 29,
   "metadata": {},
   "outputs": [],
   "source": [
    "for ID in MBID:\n",
    "        \n",
    "    melody[ID] = {'pitchSpace': pitchSpace[ID]['pitch space'],\n",
    "                  'pitchTrack': pitchTrack[ID]['cents']                          \n",
    "    }        "
   ]
  },
  {
   "cell_type": "markdown",
   "metadata": {},
   "source": [
    "## 6) Record the Data\n",
    "\n",
    "dataDict is a dictionary containing: \n",
    "1. **'recordingsList' = [  ]**,  a list of all the MBIDs,\n",
    "2. **{ 'MBID' : info, melody }**: a dictionary containing:     \n",
    ".**{ 'info': ...  }** the record information dictionary,    \n",
    ".**{ 'melody' : pitchSpace, pitchTrack}** a dictionary containing the pitchSpace list and pitchTrack dictionary."
   ]
  },
  {
   "cell_type": "code",
   "execution_count": 30,
   "metadata": {},
   "outputs": [],
   "source": [
    "dataDict = dict() # Dictionary Containing all the data"
   ]
  },
  {
   "cell_type": "code",
   "execution_count": 31,
   "metadata": {},
   "outputs": [],
   "source": [
    "dataDict['recordingsList'] = MBID\n",
    "\n",
    "for ID in MBID:\n",
    "\n",
    "    dataDict[ID] = {'info': info[ID],\n",
    "                    'melody': melody[ID]        \n",
    "    }        "
   ]
  },
  {
   "cell_type": "markdown",
   "metadata": {},
   "source": [
    "## 7) recordingsData.json"
   ]
  },
  {
   "cell_type": "code",
   "execution_count": 32,
   "metadata": {},
   "outputs": [],
   "source": [
    "with open(\"recordingsInfo.json\", \"w\",encoding='utf-8') as write_file:\n",
    "    json.dump(dataDict, write_file, indent=0,ensure_ascii=False)"
   ]
  },
  {
   "cell_type": "code",
   "execution_count": null,
   "metadata": {},
   "outputs": [],
   "source": []
  }
 ],
 "metadata": {
  "kernelspec": {
   "display_name": "Python 3",
   "language": "python",
   "name": "python3"
  },
  "language_info": {
   "codemirror_mode": {
    "name": "ipython",
    "version": 3
   },
   "file_extension": ".py",
   "mimetype": "text/x-python",
   "name": "python",
   "nbconvert_exporter": "python",
   "pygments_lexer": "ipython3",
   "version": "3.6.7"
  }
 },
 "nbformat": 4,
 "nbformat_minor": 2
}
