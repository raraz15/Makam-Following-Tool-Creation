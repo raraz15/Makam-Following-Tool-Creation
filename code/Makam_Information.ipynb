{
 "cells": [
  {
   "cell_type": "markdown",
   "metadata": {},
   "source": [
    "# Makam Information\n",
    "\n",
    "This notebook is for creating a **Makam Information Dictionary** and saving it in a json file. The dictionary includes the **name of the tonic**, the **name of the dominant**, **names of the perdeler** ( specified in the AEU system) and their corresponding **cents**.\n",
    "\n",
    "The distances in cents are taken from Yarman, O. \"79-Tone Tuning & Theory for Turkish Maqam Music as a Solution to the Non-Conformance Between Current Model and Practice\", Istanbul Technical University, 2008. and perde names are taken from Aydemir M. \"Turkish Makam Guide\", Istanbul, 2010."
   ]
  },
  {
   "cell_type": "code",
   "execution_count": 1,
   "metadata": {},
   "outputs": [],
   "source": [
    "import os \n",
    "import json\n",
    "import numpy as np"
   ]
  },
  {
   "cell_type": "code",
   "execution_count": 2,
   "metadata": {},
   "outputs": [],
   "source": [
    "# distances of intervals in cents wrt to the previous perde for 4 octaves\n",
    "distances =  np.array([90.225, 23.460, 66.765, 23.460, 90.225, 23.460, 66.765, 23.460,\n",
    "                              90.225, 23.460, 66.765, 23.460, 66.765, 23.460, 90.225, 23.460, \n",
    "                              66.765, 23.460, 90.225, 23.460, 66.765, 23.460, 66.765, 23.460,\n",
    "                              90.225, 23.460, 66.765, 23.460, 90.225, 23.460, 66.765, 23.460,\n",
    "                              90.225, 23.460, 66.765, 23.460, 66.765, 23.460, 90.225, 23.460, \n",
    "                              66.765, 23.460, 90.225, 23.460, 66.765, 23.460, 66.765, 23.460,\n",
    "                              90.225, 23.460, 66.765, 23.460, 90.225, 23.460, 66.765, 23.460,\n",
    "                              90.225, 23.460, 66.765, 23.460, 66.765, 23.460, 90.225, 23.460, \n",
    "                              66.765, 23.460, 90.225, 23.460, 66.765, 23.460, 66.765, 23.460,\n",
    "                              90.225, 23.460, 66.765, 23.460, 90.225, 23.460, 66.765, 23.460,\n",
    "                              90.225, 23.460, 66.765, 23.460, 66.765, 23.460, 90.225, 23.460, \n",
    "                              66.765, 23.460, 90.225, 23.460, 66.765, 23.460, 66.765, 23.460])"
   ]
  },
  {
   "cell_type": "code",
   "execution_count": 3,
   "metadata": {},
   "outputs": [],
   "source": [
    "# positions of the perdeler wrt the tonic\n",
    "positions = distances.cumsum()"
   ]
  },
  {
   "cell_type": "code",
   "execution_count": 4,
   "metadata": {},
   "outputs": [],
   "source": [
    "def truncate(x,y):\n",
    "    return int(x*(10)**y) / 10**y   "
   ]
  },
  {
   "cell_type": "code",
   "execution_count": 5,
   "metadata": {},
   "outputs": [],
   "source": [
    "Rast = { \"tonic\": 'Rast',\n",
    "        \"index of tonic\": 38,\n",
    "        'dominant': 'Neva',\n",
    "        'perdeler': ['Yegah','Hüseyni Aşiran','Irak','Rast','Dügah','Segah','Çargah','Neva','Hüseyni','Evç','Gerdaniye','Muhayyer','Tiz Segah','Tiz Çargah','Tiz Neva'],                    \n",
    "        'indexes': [28,32,35,38,42,45,48,52,56,59,62,66,69,72,76]\n",
    "}\n",
    "\n",
    "Rast['cents'] = [ truncate(positions[index] - positions[Rast[\"index of tonic\"]],2) for index in Rast['indexes']]"
   ]
  },
  {
   "cell_type": "code",
   "execution_count": 6,
   "metadata": {},
   "outputs": [],
   "source": [
    "Hüzzam = { \"tonic\": 'Segah',\n",
    "        'index of tonic': 45,\n",
    "        'dominant': 'Neva',\n",
    "        'leading tone': 'Kürdi',\n",
    "        'perdeler' :['Rast', 'Dügah','Segah','Çargah',' Neva','Hisar','Acem','Acemaşiran','Evç','Mahur','Dik Mahur','Gerdaniye','Muhayyer','Sünbüle','Tiz Çargah','Tiz Neva'], \n",
    "        'indexes': [38,42,45,48,52,54,57,58,59,60,61,62,66,67,72,76] \n",
    "}\n",
    "\n",
    "Hüzzam['cents'] = [ truncate(positions[index] - positions[Hüzzam[\"index of tonic\"]],2) for index in Hüzzam['indexes']]"
   ]
  },
  {
   "cell_type": "code",
   "execution_count": 7,
   "metadata": {},
   "outputs": [],
   "source": [
    "Hüseyni = { \"tonic\": 'Dügah',\n",
    "        \"index of tonic\": 42,\n",
    "        'dominant': 'Hüseyni',\n",
    "        'leading tone': 'Rast',\n",
    "        'perdeler': ['Dügah','Segah','Çargah',' Neva','Hüseyni','Evç','Gerdaniye','Muhayyer','Tiz Segah','Tiz Buselik','Tiz Çargah','Tiz Neva','Tiz Hüseyni'],\n",
    "        'indexes': [42,45,48,52,56,59,62,66,69,70,72,76,80]  \n",
    "}\n",
    "\n",
    "Hüseyni['cents'] = [ truncate(positions[index] - positions[Hüseyni[\"index of tonic\"]],2) for index in Hüseyni['indexes']]"
   ]
  },
  {
   "cell_type": "code",
   "execution_count": 8,
   "metadata": {},
   "outputs": [],
   "source": [
    "Saba = { 'tonic': 'Dügah',\n",
    "        'index of tonic': 42,\n",
    "        'dominant': 'Çargah',\n",
    "        'leading tone': 'Rast',\n",
    "        'perdeler':['Dügah','Segah','Çargah','Hicaz','Hüseyni','Acem','Gerdaniye','Şehnaz','Tiz Segah','Tiz Çargah'],\n",
    "        'indexes': [42,45,48,50,55,56,57,62,64,69,72]\n",
    "}\n",
    "\n",
    "Saba['cents'] = [ truncate(positions[index] - positions[Saba[\"index of tonic\"]],2) for index in Saba['indexes']]"
   ]
  },
  {
   "cell_type": "code",
   "execution_count": 9,
   "metadata": {},
   "outputs": [],
   "source": [
    "MakamDict = {'Rast': Rast,\n",
    "             'Hüzzam': Hüzzam,\n",
    "             'Hüseyni': Hüseyni,\n",
    "             'Saba': Saba\n",
    "}"
   ]
  },
  {
   "cell_type": "code",
   "execution_count": 10,
   "metadata": {},
   "outputs": [],
   "source": [
    "with open(\"MakamInformation.json\", \"w\",encoding='utf-8') as write_file:\n",
    "    json.dump(MakamDict, write_file, indent=4,ensure_ascii=False)"
   ]
  },
  {
   "cell_type": "code",
   "execution_count": null,
   "metadata": {},
   "outputs": [],
   "source": []
  }
 ],
 "metadata": {
  "kernelspec": {
   "display_name": "Python 3",
   "language": "python",
   "name": "python3"
  },
  "language_info": {
   "codemirror_mode": {
    "name": "ipython",
    "version": 3
   },
   "file_extension": ".py",
   "mimetype": "text/x-python",
   "name": "python",
   "nbconvert_exporter": "python",
   "pygments_lexer": "ipython3",
   "version": "3.6.7"
  }
 },
 "nbformat": 4,
 "nbformat_minor": 2
}
