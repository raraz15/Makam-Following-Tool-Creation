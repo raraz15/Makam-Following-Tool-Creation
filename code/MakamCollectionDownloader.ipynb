{
 "cells": [
  {
   "cell_type": "markdown",
   "metadata": {},
   "source": [
    "# Makam Collection Downloader\n"
   ]
  },
  {
   "cell_type": "markdown",
   "metadata": {},
   "source": [
    "This notebook is for downloading all the **available** recordings from the OTMM Dataset within a **target makam collection**. \n",
    "\n",
    "Original code at: https://github.com/MTG/Ismir2018TutorialNotebooks/blob/master/notebooks/DownloadDataFromDunya_noToken.ipynb\n",
    "\n",
    "## 1) Initialization\n"
   ]
  },
  {
   "cell_type": "code",
   "execution_count": 1,
   "metadata": {},
   "outputs": [],
   "source": [
    "# Set your token here from https://dunya.compmusic.upf.edu/user/profile/\n",
    "# This is a random token\n",
    "token = '6j9fh831536f7f98hp18b3d148klbc2by4k21fx7'"
   ]
  },
  {
   "cell_type": "code",
   "execution_count": 2,
   "metadata": {},
   "outputs": [],
   "source": [
    "import collections\n",
    "import json\n",
    "import os\n",
    "from compmusic import dunya\n",
    "\n",
    "dunya.set_token(token)"
   ]
  },
  {
   "cell_type": "code",
   "execution_count": 10,
   "metadata": {},
   "outputs": [],
   "source": [
    "dataDir = os.path.join('..','data','Oguz','4Makam_6Usul_codeFix')\n",
    "os.makedirs(dataDir, exist_ok=True)"
   ]
  },
  {
   "cell_type": "code",
   "execution_count": 11,
   "metadata": {},
   "outputs": [],
   "source": [
    "# Reading the dataset description file which contains a list of references to audio\n",
    "with open(os.path.join(dataDir, 'annotations.json')) as fp:\n",
    "    collectionFiles = json.load(fp)\n",
    "\n",
    "# Collecting the list of makams in this dataset\n",
    "makamlar = collections.defaultdict(list)     # Creates the defaultdict\n",
    "\n",
    "for file in collectionFiles:\n",
    "    makam = file['makam'] # Retrieves the makam of the file\n",
    "    makamlar[makam].append(file) # Appends the file to the makam key"
   ]
  },
  {
   "cell_type": "markdown",
   "metadata": {},
   "source": [
    "## 2) Target Makam List\n",
    "\n",
    "The code below downloads all the **available** recordings from **a target makamlar list**, **prints the MBID** of the recordings that were unable to download and creates a text file in the Makam folder containing  **\"S/U: MBID,\\n\"**."
   ]
  },
  {
   "cell_type": "code",
   "execution_count": 12,
   "metadata": {},
   "outputs": [
    {
     "name": "stdout",
     "output_type": "stream",
     "text": [
      "Downloading records from Makam Rast\n",
      "Downloading records from Makam Huseyni\n",
      "Error in downloading: 653f8154-b374-4713-99ee-f649f9582b99\n",
      "Downloading records from Makam Huzzam\n",
      "Downloading records from Makam Saba\n",
      "Sub-folders and files created in ../data/Oguz/4Makam_6Usul_codeFix\n"
     ]
    }
   ],
   "source": [
    "# Create sub-directories for makams and download a few files for each makam\n",
    "\n",
    "# Enter the target makamlar in the list below\n",
    "target_makamlar = [\"Rast\",\"Huseyni\", \"Saba\", \"Huzzam\"]\n",
    "\n",
    "for makam, files in makamlar.items():\n",
    "\n",
    "    \n",
    "    if(makam in target_makamlar):\n",
    "        print('Downloading records from Makam {}'.format(makam))\n",
    "    \n",
    "        makamDir = os.path.join(dataDir, makam) # Create the directory\n",
    "        os.makedirs(makamDir, exist_ok=True)\n",
    "           \n",
    "        for file in files:   \n",
    "            MBID = file['mbid'].split('http://musicbrainz.org/recording/')[-1]\n",
    "            dataDir1 = os.path.join(makamDir,'{}.txt'.format(makam))\n",
    "            \n",
    "            try:               \n",
    "                dunya.makam.download_mp3(MBID, makamDir)\n",
    "                \n",
    "                text = open(dataDir1,'a')\n",
    "                text.write(\"S: {},\\n\".format(MBID)) # When Successful, write \"S: MBID,\\n\" \n",
    "                text.close() \n",
    "            except:                \n",
    "                print(\"Error in downloading: {}\".format(MBID))\n",
    "                \n",
    "                text = open(dataDir1,'a')\n",
    "                text.write(\"U: {},\\n\".format(MBID)) # When Unsuccessful, write \"U: MBID,\\n\" \n",
    "                text.close()   \n",
    "           \n",
    "\n",
    "print('Sub-folders and files created in {}'.format(dataDir))"
   ]
  },
  {
   "cell_type": "markdown",
   "metadata": {},
   "source": [
    "## 3) MBID List\n",
    "The code below downloads all the **available** recordings that are given in a list and **prints** the download status with the MBID."
   ]
  },
  {
   "cell_type": "code",
   "execution_count": null,
   "metadata": {},
   "outputs": [],
   "source": [
    "# Enter the MBIDs.\n",
    "MBID_List = [\"07f02eac-fe66-4baf-a863-7adea1408e64\",\"39a20910-302e-4f6a-86f2-7d8ec1e64eb9\",\"653f8154-b374-4713-99ee-f649f9582b99\",\"81b44968-5451-4c94-9f7f-6695fdb9aa11\",\"d6e84d9f-bf51-473e-a54d-26b9b2f52f2e\",\"deadd528-5faf-4377-8c68-ea7145112c34\",\"bc02199b-4126-47ca-be2a-04b78959997b\",\"d9796290-ab53-4107-aac4-3252cea9dfc3\",\"70cdf978-4fe1-4d69-a2de-ccb6c36e2c85\",\"8269871e-a67d-41ca-965f-1ffe96e6fa14\",\"ed3d9e55-94ab-4e1f-99e1-d0a8092cfa42\"]"
   ]
  },
  {
   "cell_type": "code",
   "execution_count": null,
   "metadata": {},
   "outputs": [],
   "source": [
    "makam = \"Mixed Makamlar\" # If you know the makam names you can write here.\n",
    "makamDir = os.path.join(data_dir, makam) # Create the directory\n",
    "os.makedirs(makamDir)"
   ]
  },
  {
   "cell_type": "code",
   "execution_count": null,
   "metadata": {},
   "outputs": [],
   "source": [
    "for MBID in MBID_List: \n",
    "    \n",
    "    try:\n",
    "        dunya.makam.download_mp3(MBID, makam_dir)\n",
    "        print(\"S: {}\".format(MBID)) # S for Successful Download\n",
    "\n",
    "    except:\n",
    "        print(\"U: {}\".format(MBID)) # U for Unsuccessful Download"
   ]
  }
 ],
 "metadata": {
  "kernelspec": {
   "display_name": "Python 3",
   "language": "python",
   "name": "python3"
  },
  "language_info": {
   "codemirror_mode": {
    "name": "ipython",
    "version": 3
   },
   "file_extension": ".py",
   "mimetype": "text/x-python",
   "name": "python",
   "nbconvert_exporter": "python",
   "pygments_lexer": "ipython3",
   "version": "3.6.7"
  }
 },
 "nbformat": 4,
 "nbformat_minor": 2
}
